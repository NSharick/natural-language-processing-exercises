{
 "cells": [
  {
   "cell_type": "markdown",
   "id": "be0c204a",
   "metadata": {},
   "source": [
    "## Modeling Exercises - NLP"
   ]
  },
  {
   "cell_type": "code",
   "execution_count": 1,
   "id": "111b2f93",
   "metadata": {},
   "outputs": [],
   "source": [
    "import pandas as pd\n",
    "import nltk\n",
    "import unicodedata\n",
    "import re\n",
    "import acquire\n",
    "import prepare\n",
    "from env import get_db_url\n",
    "from sklearn.model_selection import train_test_split\n",
    "from sklearn.tree import DecisionTreeClassifier\n",
    "from sklearn.feature_extraction.text import TfidfVectorizer\n",
    "from sklearn.feature_extraction.text import CountVectorizer"
   ]
  },
  {
   "cell_type": "code",
   "execution_count": 2,
   "id": "5a7b006c",
   "metadata": {},
   "outputs": [
    {
     "data": {
      "text/html": [
       "<div>\n",
       "<style scoped>\n",
       "    .dataframe tbody tr th:only-of-type {\n",
       "        vertical-align: middle;\n",
       "    }\n",
       "\n",
       "    .dataframe tbody tr th {\n",
       "        vertical-align: top;\n",
       "    }\n",
       "\n",
       "    .dataframe thead th {\n",
       "        text-align: right;\n",
       "    }\n",
       "</style>\n",
       "<table border=\"1\" class=\"dataframe\">\n",
       "  <thead>\n",
       "    <tr style=\"text-align: right;\">\n",
       "      <th></th>\n",
       "      <th>id</th>\n",
       "      <th>label</th>\n",
       "      <th>text</th>\n",
       "    </tr>\n",
       "  </thead>\n",
       "  <tbody>\n",
       "    <tr>\n",
       "      <th>0</th>\n",
       "      <td>0</td>\n",
       "      <td>ham</td>\n",
       "      <td>Go until jurong point, crazy.. Available only ...</td>\n",
       "    </tr>\n",
       "    <tr>\n",
       "      <th>1</th>\n",
       "      <td>1</td>\n",
       "      <td>ham</td>\n",
       "      <td>Ok lar... Joking wif u oni...</td>\n",
       "    </tr>\n",
       "    <tr>\n",
       "      <th>2</th>\n",
       "      <td>2</td>\n",
       "      <td>spam</td>\n",
       "      <td>Free entry in 2 a wkly comp to win FA Cup fina...</td>\n",
       "    </tr>\n",
       "    <tr>\n",
       "      <th>3</th>\n",
       "      <td>3</td>\n",
       "      <td>ham</td>\n",
       "      <td>U dun say so early hor... U c already then say...</td>\n",
       "    </tr>\n",
       "    <tr>\n",
       "      <th>4</th>\n",
       "      <td>4</td>\n",
       "      <td>ham</td>\n",
       "      <td>Nah I don't think he goes to usf, he lives aro...</td>\n",
       "    </tr>\n",
       "  </tbody>\n",
       "</table>\n",
       "</div>"
      ],
      "text/plain": [
       "   id label                                               text\n",
       "0   0   ham  Go until jurong point, crazy.. Available only ...\n",
       "1   1   ham                      Ok lar... Joking wif u oni...\n",
       "2   2  spam  Free entry in 2 a wkly comp to win FA Cup fina...\n",
       "3   3   ham  U dun say so early hor... U c already then say...\n",
       "4   4   ham  Nah I don't think he goes to usf, he lives aro..."
      ]
     },
     "execution_count": 2,
     "metadata": {},
     "output_type": "execute_result"
    }
   ],
   "source": [
    "query = 'SELECT * FROM spam'\n",
    "df = pd.read_sql(query, get_db_url('spam_db'))\n",
    "df.head()"
   ]
  },
  {
   "cell_type": "code",
   "execution_count": 3,
   "id": "e1ebe1cd",
   "metadata": {},
   "outputs": [
    {
     "data": {
      "text/html": [
       "<div>\n",
       "<style scoped>\n",
       "    .dataframe tbody tr th:only-of-type {\n",
       "        vertical-align: middle;\n",
       "    }\n",
       "\n",
       "    .dataframe tbody tr th {\n",
       "        vertical-align: top;\n",
       "    }\n",
       "\n",
       "    .dataframe thead th {\n",
       "        text-align: right;\n",
       "    }\n",
       "</style>\n",
       "<table border=\"1\" class=\"dataframe\">\n",
       "  <thead>\n",
       "    <tr style=\"text-align: right;\">\n",
       "      <th></th>\n",
       "      <th>id</th>\n",
       "      <th>label</th>\n",
       "      <th>text</th>\n",
       "      <th>clean_text</th>\n",
       "    </tr>\n",
       "  </thead>\n",
       "  <tbody>\n",
       "    <tr>\n",
       "      <th>0</th>\n",
       "      <td>0</td>\n",
       "      <td>ham</td>\n",
       "      <td>Go until jurong point, crazy.. Available only ...</td>\n",
       "      <td>go jurong point crazy available bugis n great ...</td>\n",
       "    </tr>\n",
       "    <tr>\n",
       "      <th>1</th>\n",
       "      <td>1</td>\n",
       "      <td>ham</td>\n",
       "      <td>Ok lar... Joking wif u oni...</td>\n",
       "      <td>ok lar joking wif u oni</td>\n",
       "    </tr>\n",
       "    <tr>\n",
       "      <th>2</th>\n",
       "      <td>2</td>\n",
       "      <td>spam</td>\n",
       "      <td>Free entry in 2 a wkly comp to win FA Cup fina...</td>\n",
       "      <td>free entry 2 wkly comp win fa cup final tkts 2...</td>\n",
       "    </tr>\n",
       "    <tr>\n",
       "      <th>3</th>\n",
       "      <td>3</td>\n",
       "      <td>ham</td>\n",
       "      <td>U dun say so early hor... U c already then say...</td>\n",
       "      <td>u dun say early hor u c already say</td>\n",
       "    </tr>\n",
       "    <tr>\n",
       "      <th>4</th>\n",
       "      <td>4</td>\n",
       "      <td>ham</td>\n",
       "      <td>Nah I don't think he goes to usf, he lives aro...</td>\n",
       "      <td>nah ' think go usf life around though</td>\n",
       "    </tr>\n",
       "  </tbody>\n",
       "</table>\n",
       "</div>"
      ],
      "text/plain": [
       "   id label                                               text  \\\n",
       "0   0   ham  Go until jurong point, crazy.. Available only ...   \n",
       "1   1   ham                      Ok lar... Joking wif u oni...   \n",
       "2   2  spam  Free entry in 2 a wkly comp to win FA Cup fina...   \n",
       "3   3   ham  U dun say so early hor... U c already then say...   \n",
       "4   4   ham  Nah I don't think he goes to usf, he lives aro...   \n",
       "\n",
       "                                          clean_text  \n",
       "0  go jurong point crazy available bugis n great ...  \n",
       "1                            ok lar joking wif u oni  \n",
       "2  free entry 2 wkly comp win fa cup final tkts 2...  \n",
       "3                u dun say early hor u c already say  \n",
       "4              nah ' think go usf life around though  "
      ]
     },
     "execution_count": 3,
     "metadata": {},
     "output_type": "execute_result"
    }
   ],
   "source": [
    "df['clean_text'] = df.text.apply(prepare.basic_clean).apply(prepare.tokenize).apply(prepare.lemmatize).apply(prepare.remove_stopwords)\n",
    "df.head()\n"
   ]
  },
  {
   "cell_type": "code",
   "execution_count": 4,
   "id": "b828a272",
   "metadata": {},
   "outputs": [],
   "source": [
    "X = df.clean_text\n",
    "y = df.label\n",
    "\n",
    "X_train, X_test, y_train, y_test = train_test_split(X, y, test_size=.2, random_state=12)"
   ]
  },
  {
   "cell_type": "code",
   "execution_count": 5,
   "id": "3ae36ea1",
   "metadata": {},
   "outputs": [
    {
     "data": {
      "text/plain": [
       "0.9302221225039264"
      ]
     },
     "execution_count": 5,
     "metadata": {},
     "output_type": "execute_result"
    }
   ],
   "source": [
    "cv = CountVectorizer()\n",
    "X_bow = cv.fit_transform(X_train)\n",
    "tree = DecisionTreeClassifier(max_depth=5)\n",
    "tree.fit(X_bow, y_train)\n",
    "\n",
    "tree.score(X_bow, y_train)"
   ]
  },
  {
   "cell_type": "code",
   "execution_count": 6,
   "id": "a37faf20",
   "metadata": {},
   "outputs": [
    {
     "data": {
      "text/plain": [
       "0.9540049360556428"
      ]
     },
     "execution_count": 6,
     "metadata": {},
     "output_type": "execute_result"
    }
   ],
   "source": [
    "tfidf = TfidfVectorizer()\n",
    "X_tfidf = tfidf.fit_transform(X_train)\n",
    "tree.fit(X_tfidf, y_train)\n",
    "tree.score(X_tfidf, y_train)"
   ]
  },
  {
   "cell_type": "code",
   "execution_count": 7,
   "id": "10a2e2bf",
   "metadata": {},
   "outputs": [
    {
     "data": {
      "text/plain": [
       "0.9246636771300448"
      ]
     },
     "execution_count": 7,
     "metadata": {},
     "output_type": "execute_result"
    }
   ],
   "source": [
    "tree.score(tfidf.transform(X_test), y_test)"
   ]
  },
  {
   "cell_type": "markdown",
   "id": "f6c120e4",
   "metadata": {},
   "source": [
    "---"
   ]
  },
  {
   "cell_type": "markdown",
   "id": "1251b11e",
   "metadata": {},
   "source": [
    "#### Modeling with bigrams"
   ]
  },
  {
   "cell_type": "code",
   "execution_count": 8,
   "id": "025960de",
   "metadata": {},
   "outputs": [
    {
     "data": {
      "text/plain": [
       "1562               dude saw parked car sunroof popped sux\n",
       "3362                                               ' free\n",
       "3686                       great shoot big load get ready\n",
       "2457                                     kkhow sister kid\n",
       "353     yo guy ever figure much need alcohol jay tryin...\n",
       "Name: clean_text, dtype: object"
      ]
     },
     "execution_count": 8,
     "metadata": {},
     "output_type": "execute_result"
    }
   ],
   "source": [
    "X_train.head()"
   ]
  },
  {
   "cell_type": "code",
   "execution_count": 9,
   "id": "eaef14d5",
   "metadata": {},
   "outputs": [
    {
     "data": {
      "text/plain": [
       "1562    ham\n",
       "3362    ham\n",
       "3686    ham\n",
       "2457    ham\n",
       "353     ham\n",
       "Name: label, dtype: object"
      ]
     },
     "execution_count": 9,
     "metadata": {},
     "output_type": "execute_result"
    }
   ],
   "source": [
    "y_train.head()"
   ]
  },
  {
   "cell_type": "code",
   "execution_count": 10,
   "id": "f4bae164",
   "metadata": {},
   "outputs": [
    {
     "data": {
      "text/plain": [
       "ham     3860\n",
       "spam     597\n",
       "Name: label, dtype: int64"
      ]
     },
     "execution_count": 10,
     "metadata": {},
     "output_type": "execute_result"
    }
   ],
   "source": [
    "y_train.value_counts()"
   ]
  },
  {
   "cell_type": "code",
   "execution_count": 11,
   "id": "23ecf714",
   "metadata": {},
   "outputs": [
    {
     "data": {
      "text/plain": [
       "0.8893874803679606"
      ]
     },
     "execution_count": 11,
     "metadata": {},
     "output_type": "execute_result"
    }
   ],
   "source": [
    "cv = CountVectorizer(ngram_range=(2, 2))\n",
    "X_bow = cv.fit_transform(X_train)\n",
    "tree = DecisionTreeClassifier(max_depth=5)\n",
    "tree.fit(X_bow, y_train)\n",
    "tree.score(X_bow, y_train)"
   ]
  },
  {
   "cell_type": "code",
   "execution_count": 12,
   "id": "1ecd1fd6",
   "metadata": {},
   "outputs": [
    {
     "data": {
      "text/plain": [
       "0.8896118465335427"
      ]
     },
     "execution_count": 12,
     "metadata": {},
     "output_type": "execute_result"
    }
   ],
   "source": [
    "tfidf = TfidfVectorizer(ngram_range=(2, 2))\n",
    "X_tfidf = tfidf.fit_transform(X_train)\n",
    "tree.fit(X_tfidf, y_train)\n",
    "tree.score(X_tfidf, y_train)"
   ]
  },
  {
   "cell_type": "markdown",
   "id": "45e94ea1",
   "metadata": {},
   "source": [
    "**Unigrams and Bigrams**"
   ]
  },
  {
   "cell_type": "code",
   "execution_count": 13,
   "id": "8b5d8ac1",
   "metadata": {},
   "outputs": [
    {
     "data": {
      "text/plain": [
       "0.9302221225039264"
      ]
     },
     "execution_count": 13,
     "metadata": {},
     "output_type": "execute_result"
    }
   ],
   "source": [
    "cv = CountVectorizer(ngram_range=(1, 2))\n",
    "X_bow = cv.fit_transform(X_train)\n",
    "tree = DecisionTreeClassifier(max_depth=5)\n",
    "tree.fit(X_bow, y_train)\n",
    "tree.score(X_bow, y_train)"
   ]
  },
  {
   "cell_type": "code",
   "execution_count": 14,
   "id": "b2f38b0c",
   "metadata": {},
   "outputs": [
    {
     "data": {
      "text/plain": [
       "0.9546780345523895"
      ]
     },
     "execution_count": 14,
     "metadata": {},
     "output_type": "execute_result"
    }
   ],
   "source": [
    "tfidf = TfidfVectorizer(ngram_range=(1, 2))\n",
    "X_tfidf = tfidf.fit_transform(X_train)\n",
    "tree.fit(X_tfidf, y_train)\n",
    "tree.score(X_tfidf, y_train)"
   ]
  },
  {
   "cell_type": "markdown",
   "id": "ea658643",
   "metadata": {},
   "source": [
    "**Unigrams, Bigrams, and Trigrams**"
   ]
  },
  {
   "cell_type": "code",
   "execution_count": 15,
   "id": "64401887",
   "metadata": {},
   "outputs": [
    {
     "data": {
      "text/plain": [
       "0.9302221225039264"
      ]
     },
     "execution_count": 15,
     "metadata": {},
     "output_type": "execute_result"
    }
   ],
   "source": [
    "cv = CountVectorizer(ngram_range=(1, 3))\n",
    "X_bow = cv.fit_transform(X_train)\n",
    "tree = DecisionTreeClassifier(max_depth=5)\n",
    "tree.fit(X_bow, y_train)\n",
    "tree.score(X_bow, y_train)"
   ]
  },
  {
   "cell_type": "code",
   "execution_count": 16,
   "id": "fd636a01",
   "metadata": {},
   "outputs": [
    {
     "data": {
      "text/plain": [
       "0.9535562037244784"
      ]
     },
     "execution_count": 16,
     "metadata": {},
     "output_type": "execute_result"
    }
   ],
   "source": [
    "tfidf = TfidfVectorizer(ngram_range=(1, 3))\n",
    "X_tfidf = tfidf.fit_transform(X_train)\n",
    "tree.fit(X_tfidf, y_train)\n",
    "tree.score(X_tfidf, y_train)"
   ]
  },
  {
   "cell_type": "markdown",
   "id": "630edb8e",
   "metadata": {},
   "source": [
    "---"
   ]
  },
  {
   "cell_type": "markdown",
   "id": "67e71264",
   "metadata": {},
   "source": [
    "### Train, Validate, Test split for further model development / evaluation"
   ]
  },
  {
   "cell_type": "code",
   "execution_count": 18,
   "id": "606ce1a6",
   "metadata": {},
   "outputs": [
    {
     "data": {
      "text/html": [
       "<div>\n",
       "<style scoped>\n",
       "    .dataframe tbody tr th:only-of-type {\n",
       "        vertical-align: middle;\n",
       "    }\n",
       "\n",
       "    .dataframe tbody tr th {\n",
       "        vertical-align: top;\n",
       "    }\n",
       "\n",
       "    .dataframe thead th {\n",
       "        text-align: right;\n",
       "    }\n",
       "</style>\n",
       "<table border=\"1\" class=\"dataframe\">\n",
       "  <thead>\n",
       "    <tr style=\"text-align: right;\">\n",
       "      <th></th>\n",
       "      <th>id</th>\n",
       "      <th>label</th>\n",
       "      <th>text</th>\n",
       "      <th>clean_text</th>\n",
       "    </tr>\n",
       "  </thead>\n",
       "  <tbody>\n",
       "    <tr>\n",
       "      <th>0</th>\n",
       "      <td>0</td>\n",
       "      <td>ham</td>\n",
       "      <td>Go until jurong point, crazy.. Available only ...</td>\n",
       "      <td>go jurong point crazy available bugis n great ...</td>\n",
       "    </tr>\n",
       "    <tr>\n",
       "      <th>1</th>\n",
       "      <td>1</td>\n",
       "      <td>ham</td>\n",
       "      <td>Ok lar... Joking wif u oni...</td>\n",
       "      <td>ok lar joking wif u oni</td>\n",
       "    </tr>\n",
       "    <tr>\n",
       "      <th>2</th>\n",
       "      <td>2</td>\n",
       "      <td>spam</td>\n",
       "      <td>Free entry in 2 a wkly comp to win FA Cup fina...</td>\n",
       "      <td>free entry 2 wkly comp win fa cup final tkts 2...</td>\n",
       "    </tr>\n",
       "    <tr>\n",
       "      <th>3</th>\n",
       "      <td>3</td>\n",
       "      <td>ham</td>\n",
       "      <td>U dun say so early hor... U c already then say...</td>\n",
       "      <td>u dun say early hor u c already say</td>\n",
       "    </tr>\n",
       "    <tr>\n",
       "      <th>4</th>\n",
       "      <td>4</td>\n",
       "      <td>ham</td>\n",
       "      <td>Nah I don't think he goes to usf, he lives aro...</td>\n",
       "      <td>nah ' think go usf life around though</td>\n",
       "    </tr>\n",
       "  </tbody>\n",
       "</table>\n",
       "</div>"
      ],
      "text/plain": [
       "   id label                                               text  \\\n",
       "0   0   ham  Go until jurong point, crazy.. Available only ...   \n",
       "1   1   ham                      Ok lar... Joking wif u oni...   \n",
       "2   2  spam  Free entry in 2 a wkly comp to win FA Cup fina...   \n",
       "3   3   ham  U dun say so early hor... U c already then say...   \n",
       "4   4   ham  Nah I don't think he goes to usf, he lives aro...   \n",
       "\n",
       "                                          clean_text  \n",
       "0  go jurong point crazy available bugis n great ...  \n",
       "1                            ok lar joking wif u oni  \n",
       "2  free entry 2 wkly comp win fa cup final tkts 2...  \n",
       "3                u dun say early hor u c already say  \n",
       "4              nah ' think go usf life around though  "
      ]
     },
     "execution_count": 18,
     "metadata": {},
     "output_type": "execute_result"
    }
   ],
   "source": [
    "df2 = df.copy()\n",
    "df2.head()"
   ]
  },
  {
   "cell_type": "code",
   "execution_count": 19,
   "id": "c17f82c7",
   "metadata": {},
   "outputs": [],
   "source": [
    "def split_data(df):\n",
    "    '''\n",
    "    this function takes the full dataset and splits it into three parts (train, validate, test) \n",
    "    and returns the resulting dataframes\n",
    "    '''\n",
    "    train_val, test = train_test_split(df, train_size = 0.8, random_state=123)\n",
    "    train, validate = train_test_split(train_val, train_size = 0.7, random_state=123)\n",
    "    return train, validate, test"
   ]
  },
  {
   "cell_type": "code",
   "execution_count": 20,
   "id": "9f24e2eb",
   "metadata": {},
   "outputs": [
    {
     "data": {
      "text/html": [
       "<div>\n",
       "<style scoped>\n",
       "    .dataframe tbody tr th:only-of-type {\n",
       "        vertical-align: middle;\n",
       "    }\n",
       "\n",
       "    .dataframe tbody tr th {\n",
       "        vertical-align: top;\n",
       "    }\n",
       "\n",
       "    .dataframe thead th {\n",
       "        text-align: right;\n",
       "    }\n",
       "</style>\n",
       "<table border=\"1\" class=\"dataframe\">\n",
       "  <thead>\n",
       "    <tr style=\"text-align: right;\">\n",
       "      <th></th>\n",
       "      <th>id</th>\n",
       "      <th>label</th>\n",
       "      <th>text</th>\n",
       "      <th>clean_text</th>\n",
       "    </tr>\n",
       "  </thead>\n",
       "  <tbody>\n",
       "    <tr>\n",
       "      <th>5116</th>\n",
       "      <td>5116</td>\n",
       "      <td>ham</td>\n",
       "      <td>Thanks. Fills me with complete calm and reassu...</td>\n",
       "      <td>thanks fill complete calm reassurance</td>\n",
       "    </tr>\n",
       "    <tr>\n",
       "      <th>3735</th>\n",
       "      <td>3735</td>\n",
       "      <td>ham</td>\n",
       "      <td>Hows the street where the end of library walk is?</td>\n",
       "      <td>hows street end library walk</td>\n",
       "    </tr>\n",
       "    <tr>\n",
       "      <th>2538</th>\n",
       "      <td>2538</td>\n",
       "      <td>ham</td>\n",
       "      <td>The monthly amount is not that terrible and yo...</td>\n",
       "      <td>monthly amount terrible pay anything till 6mon...</td>\n",
       "    </tr>\n",
       "    <tr>\n",
       "      <th>3743</th>\n",
       "      <td>3743</td>\n",
       "      <td>ham</td>\n",
       "      <td>Nobody names their penis a girls name this sto...</td>\n",
       "      <td>nobody name penis girl name story ' add</td>\n",
       "    </tr>\n",
       "    <tr>\n",
       "      <th>3573</th>\n",
       "      <td>3573</td>\n",
       "      <td>ham</td>\n",
       "      <td>Yeah sure I'll leave in a min</td>\n",
       "      <td>yeah sure ' leave min</td>\n",
       "    </tr>\n",
       "  </tbody>\n",
       "</table>\n",
       "</div>"
      ],
      "text/plain": [
       "        id label                                               text  \\\n",
       "5116  5116   ham  Thanks. Fills me with complete calm and reassu...   \n",
       "3735  3735   ham  Hows the street where the end of library walk is?   \n",
       "2538  2538   ham  The monthly amount is not that terrible and yo...   \n",
       "3743  3743   ham  Nobody names their penis a girls name this sto...   \n",
       "3573  3573   ham                      Yeah sure I'll leave in a min   \n",
       "\n",
       "                                             clean_text  \n",
       "5116              thanks fill complete calm reassurance  \n",
       "3735                       hows street end library walk  \n",
       "2538  monthly amount terrible pay anything till 6mon...  \n",
       "3743            nobody name penis girl name story ' add  \n",
       "3573                              yeah sure ' leave min  "
      ]
     },
     "execution_count": 20,
     "metadata": {},
     "output_type": "execute_result"
    }
   ],
   "source": [
    "train, validate, test = split_data(df2)\n",
    "train.head()"
   ]
  },
  {
   "cell_type": "code",
   "execution_count": 21,
   "id": "647e03f6",
   "metadata": {},
   "outputs": [
    {
     "data": {
      "text/plain": [
       "((3119, 4), (1338, 4), (1115, 4))"
      ]
     },
     "execution_count": 21,
     "metadata": {},
     "output_type": "execute_result"
    }
   ],
   "source": [
    "train.shape, validate.shape, test.shape"
   ]
  },
  {
   "cell_type": "code",
   "execution_count": 22,
   "id": "6c2c2a05",
   "metadata": {},
   "outputs": [],
   "source": [
    "X_train = train.clean_text\n",
    "y_train = train.label\n",
    "X_val = validate.clean_text\n",
    "y_val = validate.label\n",
    "X_test = test.clean_text\n",
    "y_test = test.label"
   ]
  },
  {
   "cell_type": "markdown",
   "id": "a5609a9b",
   "metadata": {},
   "source": [
    "### CountVectorizer (ngram range 1,2) and Decision Tree - Max depth exploration"
   ]
  },
  {
   "cell_type": "markdown",
   "id": "4640868d",
   "metadata": {},
   "source": [
    "Max Depth = 60"
   ]
  },
  {
   "cell_type": "code",
   "execution_count": 26,
   "id": "32136263",
   "metadata": {},
   "outputs": [
    {
     "data": {
      "text/plain": [
       "1.0"
      ]
     },
     "execution_count": 26,
     "metadata": {},
     "output_type": "execute_result"
    }
   ],
   "source": [
    "#Train data\n",
    "cv = CountVectorizer(ngram_range=(1, 2))\n",
    "X_bow = cv.fit_transform(X_train)\n",
    "tree = DecisionTreeClassifier(max_depth=60)\n",
    "tree.fit(X_bow, y_train)\n",
    "tree.score(X_bow, y_train)"
   ]
  },
  {
   "cell_type": "code",
   "execution_count": 27,
   "id": "32b7df80",
   "metadata": {},
   "outputs": [
    {
     "data": {
      "text/plain": [
       "0.9603886397608371"
      ]
     },
     "execution_count": 27,
     "metadata": {},
     "output_type": "execute_result"
    }
   ],
   "source": [
    "#Validate data\n",
    "X_bow_val = cv.transform(X_val)\n",
    "tree.score(X_bow_val, y_val)"
   ]
  },
  {
   "cell_type": "markdown",
   "id": "2c23eb93",
   "metadata": {},
   "source": [
    "Max Depth = 50"
   ]
  },
  {
   "cell_type": "code",
   "execution_count": 34,
   "id": "3177ac97",
   "metadata": {},
   "outputs": [
    {
     "data": {
      "text/plain": [
       "0.9987175376723308"
      ]
     },
     "execution_count": 34,
     "metadata": {},
     "output_type": "execute_result"
    }
   ],
   "source": [
    "cv = CountVectorizer(ngram_range=(1, 2))\n",
    "X_bow = cv.fit_transform(X_train)\n",
    "tree = DecisionTreeClassifier(max_depth=50)\n",
    "tree.fit(X_bow, y_train)\n",
    "tree.score(X_bow, y_train)"
   ]
  },
  {
   "cell_type": "code",
   "execution_count": 35,
   "id": "165ca248",
   "metadata": {},
   "outputs": [
    {
     "data": {
      "text/plain": [
       "0.9626307922272048"
      ]
     },
     "execution_count": 35,
     "metadata": {},
     "output_type": "execute_result"
    }
   ],
   "source": [
    "X_bow_val = cv.transform(X_val)\n",
    "tree.score(X_bow_val, y_val)"
   ]
  },
  {
   "cell_type": "markdown",
   "id": "03fec085",
   "metadata": {},
   "source": [
    "Max Depth = 40"
   ]
  },
  {
   "cell_type": "code",
   "execution_count": 36,
   "id": "9c07c81b",
   "metadata": {},
   "outputs": [
    {
     "data": {
      "text/plain": [
       "0.9958319974350753"
      ]
     },
     "execution_count": 36,
     "metadata": {},
     "output_type": "execute_result"
    }
   ],
   "source": [
    "cv = CountVectorizer(ngram_range=(1, 2))\n",
    "X_bow = cv.fit_transform(X_train)\n",
    "tree = DecisionTreeClassifier(max_depth=40)\n",
    "tree.fit(X_bow, y_train)\n",
    "tree.score(X_bow, y_train)"
   ]
  },
  {
   "cell_type": "code",
   "execution_count": 37,
   "id": "3b074648",
   "metadata": {},
   "outputs": [
    {
     "data": {
      "text/plain": [
       "0.9603886397608371"
      ]
     },
     "execution_count": 37,
     "metadata": {},
     "output_type": "execute_result"
    }
   ],
   "source": [
    "X_bow_val = cv.transform(X_val)\n",
    "tree.score(X_bow_val, y_val)"
   ]
  },
  {
   "cell_type": "markdown",
   "id": "e9b50fb8",
   "metadata": {},
   "source": [
    "Max Depth = 30"
   ]
  },
  {
   "cell_type": "code",
   "execution_count": 38,
   "id": "2f80e2c4",
   "metadata": {},
   "outputs": [
    {
     "data": {
      "text/plain": [
       "0.9923052260339853"
      ]
     },
     "execution_count": 38,
     "metadata": {},
     "output_type": "execute_result"
    }
   ],
   "source": [
    "cv = CountVectorizer(ngram_range=(1, 2))\n",
    "X_bow = cv.fit_transform(X_train)\n",
    "tree = DecisionTreeClassifier(max_depth=30)\n",
    "tree.fit(X_bow, y_train)\n",
    "tree.score(X_bow, y_train)"
   ]
  },
  {
   "cell_type": "code",
   "execution_count": 39,
   "id": "3ad64620",
   "metadata": {},
   "outputs": [
    {
     "data": {
      "text/plain": [
       "0.9603886397608371"
      ]
     },
     "execution_count": 39,
     "metadata": {},
     "output_type": "execute_result"
    }
   ],
   "source": [
    "X_bow_val = cv.transform(X_val)\n",
    "tree.score(X_bow_val, y_val)"
   ]
  },
  {
   "cell_type": "markdown",
   "id": "9eb26e8a",
   "metadata": {},
   "source": [
    "Max Depth = 20"
   ]
  },
  {
   "cell_type": "code",
   "execution_count": 40,
   "id": "2bdbe57c",
   "metadata": {},
   "outputs": [
    {
     "data": {
      "text/plain": [
       "0.9846104520679705"
      ]
     },
     "execution_count": 40,
     "metadata": {},
     "output_type": "execute_result"
    }
   ],
   "source": [
    "cv = CountVectorizer(ngram_range=(1, 2))\n",
    "X_bow = cv.fit_transform(X_train)\n",
    "tree = DecisionTreeClassifier(max_depth=20)\n",
    "tree.fit(X_bow, y_train)\n",
    "tree.score(X_bow, y_train)"
   ]
  },
  {
   "cell_type": "code",
   "execution_count": 41,
   "id": "b1f50601",
   "metadata": {},
   "outputs": [
    {
     "data": {
      "text/plain": [
       "0.9573991031390134"
      ]
     },
     "execution_count": 41,
     "metadata": {},
     "output_type": "execute_result"
    }
   ],
   "source": [
    "X_bow_val = cv.transform(X_val)\n",
    "tree.score(X_bow_val, y_val)"
   ]
  },
  {
   "cell_type": "markdown",
   "id": "bd15c589",
   "metadata": {},
   "source": [
    "Max Depth = 10"
   ]
  },
  {
   "cell_type": "code",
   "execution_count": 42,
   "id": "955cc405",
   "metadata": {},
   "outputs": [
    {
     "data": {
      "text/plain": [
       "0.9621673613337608"
      ]
     },
     "execution_count": 42,
     "metadata": {},
     "output_type": "execute_result"
    }
   ],
   "source": [
    "cv = CountVectorizer(ngram_range=(1, 2))\n",
    "X_bow = cv.fit_transform(X_train)\n",
    "tree = DecisionTreeClassifier(max_depth=10)\n",
    "tree.fit(X_bow, y_train)\n",
    "tree.score(X_bow, y_train)"
   ]
  },
  {
   "cell_type": "code",
   "execution_count": 43,
   "id": "eea011ec",
   "metadata": {},
   "outputs": [
    {
     "data": {
      "text/plain": [
       "0.952914798206278"
      ]
     },
     "execution_count": 43,
     "metadata": {},
     "output_type": "execute_result"
    }
   ],
   "source": [
    "X_bow_val = cv.transform(X_val)\n",
    "tree.score(X_bow_val, y_val)"
   ]
  },
  {
   "cell_type": "markdown",
   "id": "c3bfa03d",
   "metadata": {},
   "source": [
    "**Best Model - Max Depth = 50**"
   ]
  },
  {
   "cell_type": "code",
   "execution_count": 45,
   "id": "8a476678",
   "metadata": {},
   "outputs": [
    {
     "data": {
      "text/plain": [
       "0.957847533632287"
      ]
     },
     "execution_count": 45,
     "metadata": {},
     "output_type": "execute_result"
    }
   ],
   "source": [
    "#test Data\n",
    "cv = CountVectorizer(ngram_range=(1, 2))\n",
    "X_bow = cv.fit_transform(X_train)\n",
    "tree = DecisionTreeClassifier(max_depth=50)\n",
    "tree.fit(X_bow, y_train)\n",
    "\n",
    "X_bow_test = cv.transform(X_test)\n",
    "tree.score(X_bow_test, y_test)"
   ]
  },
  {
   "cell_type": "markdown",
   "id": "59e607c6",
   "metadata": {},
   "source": [
    "---"
   ]
  },
  {
   "cell_type": "markdown",
   "id": "4a819ce9",
   "metadata": {},
   "source": [
    "### TfidfVectorizer (ngram range 1,2) and Decision Tree - Max depth evaluation"
   ]
  },
  {
   "cell_type": "markdown",
   "id": "5ab88df1",
   "metadata": {},
   "source": [
    "Max Depth = 60"
   ]
  },
  {
   "cell_type": "code",
   "execution_count": 72,
   "id": "b8548055",
   "metadata": {},
   "outputs": [
    {
     "data": {
      "text/plain": [
       "1.0"
      ]
     },
     "execution_count": 72,
     "metadata": {},
     "output_type": "execute_result"
    }
   ],
   "source": [
    "tfidf = TfidfVectorizer(ngram_range=(1, 2))\n",
    "X_tfidf = tfidf.fit_transform(X_train)\n",
    "tree = DecisionTreeClassifier(max_depth=60)\n",
    "tree.fit(X_tfidf, y_train)\n",
    "tree.score(X_tfidf, y_train)"
   ]
  },
  {
   "cell_type": "code",
   "execution_count": 73,
   "id": "6505b94b",
   "metadata": {},
   "outputs": [
    {
     "data": {
      "text/plain": [
       "0.952914798206278"
      ]
     },
     "execution_count": 73,
     "metadata": {},
     "output_type": "execute_result"
    }
   ],
   "source": [
    "X_tfidf_val = tfidf.transform(X_val)\n",
    "tree.score(X_tfidf_val, y_val)"
   ]
  },
  {
   "cell_type": "markdown",
   "id": "23cf6c33",
   "metadata": {},
   "source": [
    "Max Depth = 50"
   ]
  },
  {
   "cell_type": "code",
   "execution_count": 74,
   "id": "a9a486c4",
   "metadata": {},
   "outputs": [
    {
     "data": {
      "text/plain": [
       "1.0"
      ]
     },
     "execution_count": 74,
     "metadata": {},
     "output_type": "execute_result"
    }
   ],
   "source": [
    "tfidf = TfidfVectorizer(ngram_range=(1, 2))\n",
    "X_tfidf = tfidf.fit_transform(X_train)\n",
    "tree = DecisionTreeClassifier(max_depth=50)\n",
    "tree.fit(X_tfidf, y_train)\n",
    "tree.score(X_tfidf, y_train)"
   ]
  },
  {
   "cell_type": "code",
   "execution_count": 75,
   "id": "af4eb580",
   "metadata": {},
   "outputs": [
    {
     "data": {
      "text/plain": [
       "0.9521674140508222"
      ]
     },
     "execution_count": 75,
     "metadata": {},
     "output_type": "execute_result"
    }
   ],
   "source": [
    "X_tfidf_val = tfidf.transform(X_val)\n",
    "tree.score(X_tfidf_val, y_val)"
   ]
  },
  {
   "cell_type": "markdown",
   "id": "0bbe3a5f",
   "metadata": {},
   "source": [
    "Max Depth = 40"
   ]
  },
  {
   "cell_type": "code",
   "execution_count": 76,
   "id": "672e1dab",
   "metadata": {},
   "outputs": [
    {
     "data": {
      "text/plain": [
       "0.9967938441808272"
      ]
     },
     "execution_count": 76,
     "metadata": {},
     "output_type": "execute_result"
    }
   ],
   "source": [
    "tfidf = TfidfVectorizer(ngram_range=(1, 2))\n",
    "X_tfidf = tfidf.fit_transform(X_train)\n",
    "tree = DecisionTreeClassifier(max_depth=40)\n",
    "tree.fit(X_tfidf, y_train)\n",
    "tree.score(X_tfidf, y_train)"
   ]
  },
  {
   "cell_type": "code",
   "execution_count": 77,
   "id": "d0990a8e",
   "metadata": {},
   "outputs": [
    {
     "data": {
      "text/plain": [
       "0.952914798206278"
      ]
     },
     "execution_count": 77,
     "metadata": {},
     "output_type": "execute_result"
    }
   ],
   "source": [
    "X_tfidf_val = tfidf.transform(X_val)\n",
    "tree.score(X_tfidf_val, y_val)"
   ]
  },
  {
   "cell_type": "markdown",
   "id": "2b4cafd7",
   "metadata": {},
   "source": [
    "Max Depth = 30"
   ]
  },
  {
   "cell_type": "code",
   "execution_count": 78,
   "id": "a04d35e2",
   "metadata": {},
   "outputs": [
    {
     "data": {
      "text/plain": [
       "0.9932670727797371"
      ]
     },
     "execution_count": 78,
     "metadata": {},
     "output_type": "execute_result"
    }
   ],
   "source": [
    "tfidf = TfidfVectorizer(ngram_range=(1, 2))\n",
    "X_tfidf = tfidf.fit_transform(X_train)\n",
    "tree = DecisionTreeClassifier(max_depth=30)\n",
    "tree.fit(X_tfidf, y_train)\n",
    "tree.score(X_tfidf, y_train)"
   ]
  },
  {
   "cell_type": "code",
   "execution_count": 79,
   "id": "781a1b75",
   "metadata": {},
   "outputs": [
    {
     "data": {
      "text/plain": [
       "0.9521674140508222"
      ]
     },
     "execution_count": 79,
     "metadata": {},
     "output_type": "execute_result"
    }
   ],
   "source": [
    "X_tfidf_val = tfidf.transform(X_val)\n",
    "tree.score(X_tfidf_val, y_val)"
   ]
  },
  {
   "cell_type": "markdown",
   "id": "5d26bdc5",
   "metadata": {},
   "source": [
    "Max Depth = 20"
   ]
  },
  {
   "cell_type": "code",
   "execution_count": 80,
   "id": "4e04843a",
   "metadata": {},
   "outputs": [
    {
     "data": {
      "text/plain": [
       "0.9871753767233088"
      ]
     },
     "execution_count": 80,
     "metadata": {},
     "output_type": "execute_result"
    }
   ],
   "source": [
    "tfidf = TfidfVectorizer(ngram_range=(1, 2))\n",
    "X_tfidf = tfidf.fit_transform(X_train)\n",
    "tree = DecisionTreeClassifier(max_depth=20)\n",
    "tree.fit(X_tfidf, y_train)\n",
    "tree.score(X_tfidf, y_train)"
   ]
  },
  {
   "cell_type": "code",
   "execution_count": 81,
   "id": "c3f535a8",
   "metadata": {},
   "outputs": [
    {
     "data": {
      "text/plain": [
       "0.9521674140508222"
      ]
     },
     "execution_count": 81,
     "metadata": {},
     "output_type": "execute_result"
    }
   ],
   "source": [
    "X_tfidf_val = tfidf.transform(X_val)\n",
    "tree.score(X_tfidf_val, y_val)"
   ]
  },
  {
   "cell_type": "markdown",
   "id": "f54e6c74",
   "metadata": {},
   "source": [
    "---"
   ]
  },
  {
   "cell_type": "code",
   "execution_count": null,
   "id": "f26a7dac",
   "metadata": {},
   "outputs": [],
   "source": []
  }
 ],
 "metadata": {
  "kernelspec": {
   "display_name": "Python 3 (ipykernel)",
   "language": "python",
   "name": "python3"
  },
  "language_info": {
   "codemirror_mode": {
    "name": "ipython",
    "version": 3
   },
   "file_extension": ".py",
   "mimetype": "text/x-python",
   "name": "python",
   "nbconvert_exporter": "python",
   "pygments_lexer": "ipython3",
   "version": "3.9.7"
  }
 },
 "nbformat": 4,
 "nbformat_minor": 5
}
